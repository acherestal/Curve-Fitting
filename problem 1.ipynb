{
  "nbformat": 4,
  "nbformat_minor": 0,
  "metadata": {
    "colab": {
      "provenance": [],
      "collapsed_sections": []
    },
    "kernelspec": {
      "name": "python3",
      "display_name": "Python 3"
    },
    "language_info": {
      "name": "python"
    }
  },
  "cells": [
    {
      "cell_type": "code",
      "execution_count": null,
      "metadata": {
        "colab": {
          "base_uri": "https://localhost:8080/"
        },
        "id": "_xincBBTe55v",
        "outputId": "1defc40f-b12b-4727-abbb-25218d34cea4"
      },
      "outputs": [
        {
          "output_type": "stream",
          "name": "stdout",
          "text": [
            "[[ 1.         -0.5         0.25       -0.125       0.0625    ]\n",
            " [ 1.         -0.2         0.04       -0.008       0.0016    ]\n",
            " [ 1.          0.5         0.25        0.125       0.0625    ]\n",
            " [ 1.          0.75        0.5625      0.421875    0.31640625]\n",
            " [ 1.          1.          1.          1.          1.        ]]\n",
            "[[7.652 ]\n",
            " [9.3632]\n",
            " [9.625 ]\n",
            " [8.7578]\n",
            " [8.    ]]\n"
          ]
        }
      ],
      "source": [
        "import numpy as np\n",
        "import matplotlib.pyplot as plt\n",
        "\n",
        "#A = np.array([[1, -0.5, (-0.5)**2, (-0.5)**3, (-0.5)**4], [1, -0.2, (-0.2)**2, (-0.2)**3, (-0.2)**4],\n",
        " #             [1, 0.5, 0.5**2, 0.5**3, 0.5**4], [1, 0.75, 0.75**2, 0.75**3, 0.75**4], [1, 1,1,1,1]])\n",
        "\n",
        "A = np.vander((-.5, -0.2, 0.5, 0.75, 1), 5, increasing=True)\n",
        "\n",
        "b = np.transpose(np.array([[7.652, 9.3632, 9.625, 8.7578, 8]]), (1,0))\n",
        "\n",
        "print(A)\n",
        "print(b)"
      ]
    },
    {
      "cell_type": "code",
      "source": [
        "a = np.linalg.inv(A).dot(b)\n",
        "a "
      ],
      "metadata": {
        "colab": {
          "base_uri": "https://localhost:8080/"
        },
        "id": "1fynOnsQh6qm",
        "outputId": "5dff26b2-a9e3-4624-e84b-7027bffac63e"
      },
      "execution_count": null,
      "outputs": [
        {
          "output_type": "execute_result",
          "data": {
            "text/plain": [
              "array([[ 9.99640842],\n",
              "       [ 1.99763368],\n",
              "       [-5.94367579],\n",
              "       [-0.09853474],\n",
              "       [ 2.04816842]])"
            ]
          },
          "metadata": {},
          "execution_count": 2
        }
      ]
    },
    {
      "cell_type": "code",
      "source": [
        "# from example on paint\n",
        "def f(a, y):\n",
        "  return a[0] + a[1]*(y**1) + a[2]*(y**2) + a[3]*(y**3) + a[4]*(y**4)\n",
        "\n",
        "plt.plot(-0.5, f(a, -0.5), 'ro')\n",
        "plt.plot(-0.2, f(a, -0.2), \"ro\")\n",
        "plt.plot(0.5, f(a, 0.5), \"ro\")\n",
        "plt.plot(0.75, f(a, 0.75), \"ro\")\n",
        "plt.plot(1, f(a, 1), \"ro\")\n",
        "\n",
        "domain = np.linspace(-2,2,20)\n",
        "values = f(a, domain)\n",
        "plt.plot(domain, values, 'b-')"
      ],
      "metadata": {
        "colab": {
          "base_uri": "https://localhost:8080/",
          "height": 282
        },
        "id": "dZeTRr_wwQQk",
        "outputId": "62d84986-a511-4e9b-b5ed-0a7e82b5499c"
      },
      "execution_count": null,
      "outputs": [
        {
          "output_type": "execute_result",
          "data": {
            "text/plain": [
              "[<matplotlib.lines.Line2D at 0x7fdad92bb450>]"
            ]
          },
          "metadata": {},
          "execution_count": 3
        },
        {
          "output_type": "display_data",
          "data": {
            "text/plain": [
              "<Figure size 432x288 with 1 Axes>"
            ],
            "image/png": "[encoded data removed]"
          },
          "metadata": {
            "needs_background": "light"
          }
        }
      ]
    }
  ]
}